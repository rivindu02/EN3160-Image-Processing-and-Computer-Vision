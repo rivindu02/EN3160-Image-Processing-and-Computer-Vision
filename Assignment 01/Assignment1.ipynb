{
 "cells": [
  {
   "cell_type": "markdown",
   "id": "bcfda2b5",
   "metadata": {},
   "source": [
    "# EN3160 Assignment 1 — Intensity Transformations & Neighborhood Filtering\n",
    "\n",
    "**Author:** _Kumarage R.V. 220343B_\n",
    "\n",
    "**How to run**\n",
    "1. Ensure images exist in `/mnt/data/` (already provided in this workspace).\n",
    "2. `pip install -r requirements.txt`\n",
    "3. Run cells from top to bottom.\n",
    "4. Export to PDF via nbconvert or Quarto (commands at the end)."
   ]
  },
  {
   "cell_type": "code",
   "execution_count": 9,
   "id": "a8367f5d",
   "metadata": {},
   "outputs": [],
   "source": [
    "# Common setup\n",
    "import cv2 as cv\n",
    "import numpy as np\n",
    "import matplotlib.pyplot as plt\n",
    "from pathlib import Path\n",
    "\n",
    "IMG_DIR = Path('/a1images')\n",
    "\n",
    "def imread_gray(p):\n",
    "    im = cv.imread(str(p), cv.IMREAD_GRAYSCALE)\n",
    "    assert im is not None, f\"Missing: {p}\"\n",
    "    return im\n",
    "\n",
    "def imread_color(p):\n",
    "    im = cv.imread(str(p), cv.IMREAD_COLOR)\n",
    "    assert im is not None, f\"Missing: {p}\"\n",
    "    return im\n",
    "\n",
    "def show_hist(img, title='Histogram'):\n",
    "    h = cv.calcHist([img],[0],None,[256],[0,256]).ravel()\n",
    "    plt.figure(figsize=(5,3)); plt.title(title); plt.plot(h); plt.xlim(0,255); plt.tight_layout()\n",
    "\n",
    "def apply_lut(img, lut):\n",
    "    lut = np.asarray(lut, dtype=np.uint8).reshape(256,1)\n",
    "    return cv.LUT(img, lut)\n",
    "\n",
    "def piecewise_lut(points):\n",
    "    xp, yp = zip(*sorted(points))\n",
    "    xs = np.arange(256)\n",
    "    lut = np.interp(xs, xp, yp).clip(0,255)\n",
    "    return lut.astype(np.uint8)"
   ]
  }
 ],
 "metadata": {
  "kernelspec": {
   "display_name": "Python 3",
   "language": "python",
   "name": "python3"
  },
  "language_info": {
   "codemirror_mode": {
    "name": "ipython",
    "version": 3
   },
   "file_extension": ".py",
   "mimetype": "text/x-python",
   "name": "python",
   "nbconvert_exporter": "python",
   "pygments_lexer": "ipython3",
   "version": "3.13.3"
  }
 },
 "nbformat": 4,
 "nbformat_minor": 5
}
